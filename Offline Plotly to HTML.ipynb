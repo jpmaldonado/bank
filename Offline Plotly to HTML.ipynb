{
 "cells": [
  {
   "cell_type": "code",
   "execution_count": 1,
   "metadata": {
    "collapsed": true
   },
   "outputs": [],
   "source": [
    "def get_plotlyjs():\n",
    "    path = os.path.join('offline', 'plotly.min.js')\n",
    "    plotlyjs = resource_string('plotly', path).decode('utf-8')\n",
    "    return plotlyjs"
   ]
  },
  {
   "cell_type": "code",
   "execution_count": 2,
   "metadata": {
    "collapsed": true
   },
   "outputs": [],
   "source": [
    "from plotly import session, tools, utils\n",
    "import uuid\n",
    "import json\n",
    "\n",
    "\n",
    "\n",
    "def new_iplot(figure_or_data, show_link=True, link_text='Export to plot.ly',\n",
    "          validate=True):\n",
    "\n",
    "    figure = tools.return_figure_from_figure_or_data(figure_or_data, validate)\n",
    "\n",
    "    width = figure.get('layout', {}).get('width', '100%')\n",
    "    height = figure.get('layout', {}).get('height', 525)\n",
    "    try:\n",
    "        float(width)\n",
    "    except (ValueError, TypeError):\n",
    "        pass\n",
    "    else:\n",
    "        width = str(width) + 'px'\n",
    "\n",
    "    try:\n",
    "        float(width)\n",
    "    except (ValueError, TypeError):\n",
    "        pass\n",
    "    else:\n",
    "        width = str(width) + 'px'\n",
    "\n",
    "    plotdivid = uuid.uuid4()\n",
    "    jdata = json.dumps(figure.get('data', []), cls=utils.PlotlyJSONEncoder)\n",
    "    jlayout = json.dumps(figure.get('layout', {}), cls=utils.PlotlyJSONEncoder)\n",
    "\n",
    "    config = {}\n",
    "    config['showLink'] = show_link\n",
    "    config['linkText'] = link_text\n",
    "    jconfig = json.dumps(config)\n",
    "\n",
    "    plotly_platform_url = session.get_session_config().get('plotly_domain',\n",
    "                                                           'https://plot.ly')\n",
    "    if (plotly_platform_url != 'https://plot.ly' and\n",
    "            link_text == 'Export to plot.ly'):\n",
    "\n",
    "        link_domain = plotly_platform_url\\\n",
    "            .replace('https://', '')\\\n",
    "            .replace('http://', '')\n",
    "        link_text = link_text.replace('plot.ly', link_domain)\n",
    "\n",
    "\n",
    "    script = '\\n'.join([\n",
    "        'Plotly.plot(\"{id}\", {data}, {layout}, {config}).then(function() {{',\n",
    "        '    $(\".{id}.loading\").remove();',\n",
    "        '}})'\n",
    "    ]).format(id=plotdivid,\n",
    "              data=jdata,\n",
    "              layout=jlayout,\n",
    "              config=jconfig)\n",
    "\n",
    "    html=\"\"\"<div class=\"{id} loading\" style=\"color: rgb(50,50,50);\">\n",
    "                 Drawing...</div>\n",
    "                 <div id=\"{id}\" style=\"height: {height}; width: {width};\" \n",
    "                 class=\"plotly-graph-div\">\n",
    "                 </div>\n",
    "                 <script type=\"text/javascript\">\n",
    "                 {script}\n",
    "                 </script>\n",
    "                 \"\"\".format(id=plotdivid, script=script,\n",
    "                           height=height, width=width)\n",
    "\n",
    "    return html"
   ]
  },
  {
   "cell_type": "code",
   "execution_count": 3,
   "metadata": {
    "collapsed": true
   },
   "outputs": [],
   "source": [
    "from plotly.graph_objs import Scatter\n",
    "import numpy as np\n",
    "\n",
    "N = 10\n",
    "random_x = np.random.randn(N)\n",
    "random_y = np.random.randn(N)\n",
    "\n",
    "# Create a trace\n",
    "trace = Scatter(\n",
    "    x = random_x,\n",
    "    y = random_y,\n",
    "    mode = 'markers'\n",
    ")\n",
    "\n",
    "data = [trace]\n",
    "\n",
    "#call our modified function to generate html\n",
    "html=new_iplot(data,show_link=False)"
   ]
  },
  {
   "cell_type": "code",
   "execution_count": 4,
   "metadata": {
    "collapsed": false
   },
   "outputs": [
    {
     "name": "stdout",
     "output_type": "stream",
     "text": [
      "<div class=\"5842910d-5181-414e-bdb1-3572e0bb3bd2 loading\" style=\"color: rgb(50,50,50);\">\n",
      "                 Drawing...</div>\n",
      "                 <div id=\"5842910d-5181-414e-bdb1-3572e0bb3bd2\" style=\"height: 525; width: 100%;\" \n",
      "                 class=\"plotly-graph-div\">\n",
      "                 </div>\n",
      "                 <script type=\"text/javascript\">\n",
      "                 Plotly.plot(\"5842910d-5181-414e-bdb1-3572e0bb3bd2\", [{\"y\": [0.5874692198625838, -0.5410646894595436, 0.02546145913238533, -1.3514835247917152, 1.0819034882321035, -0.4827714624691079, 0.6596404304876473, 1.7235151947165248, -1.3388800518588515, 1.0944151177531376], \"x\": [-0.5564998618706221, -0.7632914641841312, 0.7018775922252543, -0.39997370826762957, -0.3126225743654558, 1.6491032315221725, -1.2622429899705314, -0.5512067124152379, 0.36906331530442066, -0.20928834151868547], \"type\": \"scatter\", \"mode\": \"markers\"}], {}, {\"linkText\": \"Export to plot.ly\", \"showLink\": false}).then(function() {\n",
      "    $(\".5842910d-5181-414e-bdb1-3572e0bb3bd2.loading\").remove();\n",
      "})\n",
      "                 </script>\n",
      "                 \n"
     ]
    }
   ],
   "source": [
    "print html"
   ]
  },
  {
   "cell_type": "code",
   "execution_count": 6,
   "metadata": {
    "collapsed": false
   },
   "outputs": [],
   "source": [
    "import pandas as pd\n",
    "from plotly.tools import FigureFactory as FF\n",
    "\n",
    "res = pd.DataFrame({\"Relative score\":[100,85,73,70,60], \"churn predictor\":[\"marital\",\"education\",\"job\",\"balance\",\"loan\"] })\n",
    "\n",
    "table = FF.create_table(res)\n"
   ]
  },
  {
   "cell_type": "code",
   "execution_count": 7,
   "metadata": {
    "collapsed": false
   },
   "outputs": [
    {
     "data": {
      "text/plain": [
       "'<div class=\"07833b58-0799-42eb-9ab9-be6ff96d35ee loading\" style=\"color: rgb(50,50,50);\">\\n                 Drawing...</div>\\n                 <div id=\"07833b58-0799-42eb-9ab9-be6ff96d35ee\" style=\"height: 230; width: 100%;\" \\n                 class=\"plotly-graph-div\">\\n                 </div>\\n                 <script type=\"text/javascript\">\\n                 Plotly.plot(\"07833b58-0799-42eb-9ab9-be6ff96d35ee\", [{\"opacity\": 0.75, \"colorscale\": [[0, \"#00083e\"], [0.5, \"#ededee\"], [1, \"#ffffff\"]], \"showscale\": false, \"hoverinfo\": \"none\", \"z\": [[0, 0], [0.5, 0.5], [1, 1], [0.5, 0.5], [1, 1], [0.5, 0.5]], \"type\": \"heatmap\"}], {\"yaxis\": {\"showticklabels\": false, \"tick0\": 0.5, \"ticks\": \"\", \"gridwidth\": 2, \"dtick\": 1, \"zeroline\": false, \"autorange\": \"reversed\"}, \"margin\": {\"r\": 0, \"b\": 0, \"l\": 0, \"t\": 0}, \"annotations\": [{\"xref\": \"x1\", \"xanchor\": \"left\", \"yref\": \"y1\", \"text\": \"<b>Relative score</b>\", \"align\": \"left\", \"y\": 0, \"x\": -0.45, \"font\": {\"color\": \"#ffffff\"}, \"showarrow\": false}, {\"xref\": \"x1\", \"xanchor\": \"left\", \"yref\": \"y1\", \"text\": \"<b>churn predictor</b>\", \"align\": \"left\", \"y\": 0, \"x\": 0.55, \"font\": {\"color\": \"#ffffff\"}, \"showarrow\": false}, {\"xref\": \"x1\", \"xanchor\": \"left\", \"yref\": \"y1\", \"text\": \"100\", \"align\": \"left\", \"y\": 1, \"x\": -0.45, \"font\": {\"color\": \"#000000\"}, \"showarrow\": false}, {\"xref\": \"x1\", \"xanchor\": \"left\", \"yref\": \"y1\", \"text\": \"marital\", \"align\": \"left\", \"y\": 1, \"x\": 0.55, \"font\": {\"color\": \"#000000\"}, \"showarrow\": false}, {\"xref\": \"x1\", \"xanchor\": \"left\", \"yref\": \"y1\", \"text\": \"85\", \"align\": \"left\", \"y\": 2, \"x\": -0.45, \"font\": {\"color\": \"#000000\"}, \"showarrow\": false}, {\"xref\": \"x1\", \"xanchor\": \"left\", \"yref\": \"y1\", \"text\": \"education\", \"align\": \"left\", \"y\": 2, \"x\": 0.55, \"font\": {\"color\": \"#000000\"}, \"showarrow\": false}, {\"xref\": \"x1\", \"xanchor\": \"left\", \"yref\": \"y1\", \"text\": \"73\", \"align\": \"left\", \"y\": 3, \"x\": -0.45, \"font\": {\"color\": \"#000000\"}, \"showarrow\": false}, {\"xref\": \"x1\", \"xanchor\": \"left\", \"yref\": \"y1\", \"text\": \"job\", \"align\": \"left\", \"y\": 3, \"x\": 0.55, \"font\": {\"color\": \"#000000\"}, \"showarrow\": false}, {\"xref\": \"x1\", \"xanchor\": \"left\", \"yref\": \"y1\", \"text\": \"70\", \"align\": \"left\", \"y\": 4, \"x\": -0.45, \"font\": {\"color\": \"#000000\"}, \"showarrow\": false}, {\"xref\": \"x1\", \"xanchor\": \"left\", \"yref\": \"y1\", \"text\": \"balance\", \"align\": \"left\", \"y\": 4, \"x\": 0.55, \"font\": {\"color\": \"#000000\"}, \"showarrow\": false}, {\"xref\": \"x1\", \"xanchor\": \"left\", \"yref\": \"y1\", \"text\": \"60\", \"align\": \"left\", \"y\": 5, \"x\": -0.45, \"font\": {\"color\": \"#000000\"}, \"showarrow\": false}, {\"xref\": \"x1\", \"xanchor\": \"left\", \"yref\": \"y1\", \"text\": \"loan\", \"align\": \"left\", \"y\": 5, \"x\": 0.55, \"font\": {\"color\": \"#000000\"}, \"showarrow\": false}], \"xaxis\": {\"showticklabels\": false, \"tick0\": -0.5, \"ticks\": \"\", \"gridwidth\": 2, \"dtick\": 1, \"zeroline\": false}, \"height\": 230}, {\"linkText\": \"Export to plot.ly\", \"showLink\": true}).then(function() {\\n    $(\".07833b58-0799-42eb-9ab9-be6ff96d35ee.loading\").remove();\\n})\\n                 </script>\\n                 '"
      ]
     },
     "execution_count": 7,
     "metadata": {},
     "output_type": "execute_result"
    }
   ],
   "source": [
    "new_iplot(table)"
   ]
  },
  {
   "cell_type": "code",
   "execution_count": 8,
   "metadata": {
    "collapsed": true
   },
   "outputs": [],
   "source": [
    "txt = new_iplot(table)"
   ]
  },
  {
   "cell_type": "code",
   "execution_count": 10,
   "metadata": {
    "collapsed": false
   },
   "outputs": [
    {
     "name": "stdout",
     "output_type": "stream",
     "text": [
      "<div class=\"4c4087f1-af9e-4b0f-a6e1-7f6996f5c24d loading\" style=\"color: rgb(50,50,50);\">\n",
      "                 Drawing...</div>\n",
      "                 <div id=\"4c4087f1-af9e-4b0f-a6e1-7f6996f5c24d\" style=\"height: 230; width: 100%;\" \n",
      "                 class=\"plotly-graph-div\">\n",
      "                 </div>\n",
      "                 <script type=\"text/javascript\">\n",
      "                 Plotly.plot(\"4c4087f1-af9e-4b0f-a6e1-7f6996f5c24d\", [{\"opacity\": 0.75, \"colorscale\": [[0, \"#00083e\"], [0.5, \"#ededee\"], [1, \"#ffffff\"]], \"showscale\": false, \"hoverinfo\": \"none\", \"z\": [[0, 0], [0.5, 0.5], [1, 1], [0.5, 0.5], [1, 1], [0.5, 0.5]], \"type\": \"heatmap\"}], {\"yaxis\": {\"showticklabels\": false, \"tick0\": 0.5, \"ticks\": \"\", \"gridwidth\": 2, \"dtick\": 1, \"zeroline\": false, \"autorange\": \"reversed\"}, \"margin\": {\"r\": 0, \"b\": 0, \"l\": 0, \"t\": 0}, \"annotations\": [{\"xref\": \"x1\", \"xanchor\": \"left\", \"yref\": \"y1\", \"text\": \"<b>Relative score</b>\", \"align\": \"left\", \"y\": 0, \"x\": -0.45, \"font\": {\"color\": \"#ffffff\"}, \"showarrow\": false}, {\"xref\": \"x1\", \"xanchor\": \"left\", \"yref\": \"y1\", \"text\": \"<b>churn predictor</b>\", \"align\": \"left\", \"y\": 0, \"x\": 0.55, \"font\": {\"color\": \"#ffffff\"}, \"showarrow\": false}, {\"xref\": \"x1\", \"xanchor\": \"left\", \"yref\": \"y1\", \"text\": \"100\", \"align\": \"left\", \"y\": 1, \"x\": -0.45, \"font\": {\"color\": \"#000000\"}, \"showarrow\": false}, {\"xref\": \"x1\", \"xanchor\": \"left\", \"yref\": \"y1\", \"text\": \"marital\", \"align\": \"left\", \"y\": 1, \"x\": 0.55, \"font\": {\"color\": \"#000000\"}, \"showarrow\": false}, {\"xref\": \"x1\", \"xanchor\": \"left\", \"yref\": \"y1\", \"text\": \"85\", \"align\": \"left\", \"y\": 2, \"x\": -0.45, \"font\": {\"color\": \"#000000\"}, \"showarrow\": false}, {\"xref\": \"x1\", \"xanchor\": \"left\", \"yref\": \"y1\", \"text\": \"education\", \"align\": \"left\", \"y\": 2, \"x\": 0.55, \"font\": {\"color\": \"#000000\"}, \"showarrow\": false}, {\"xref\": \"x1\", \"xanchor\": \"left\", \"yref\": \"y1\", \"text\": \"73\", \"align\": \"left\", \"y\": 3, \"x\": -0.45, \"font\": {\"color\": \"#000000\"}, \"showarrow\": false}, {\"xref\": \"x1\", \"xanchor\": \"left\", \"yref\": \"y1\", \"text\": \"job\", \"align\": \"left\", \"y\": 3, \"x\": 0.55, \"font\": {\"color\": \"#000000\"}, \"showarrow\": false}, {\"xref\": \"x1\", \"xanchor\": \"left\", \"yref\": \"y1\", \"text\": \"70\", \"align\": \"left\", \"y\": 4, \"x\": -0.45, \"font\": {\"color\": \"#000000\"}, \"showarrow\": false}, {\"xref\": \"x1\", \"xanchor\": \"left\", \"yref\": \"y1\", \"text\": \"balance\", \"align\": \"left\", \"y\": 4, \"x\": 0.55, \"font\": {\"color\": \"#000000\"}, \"showarrow\": false}, {\"xref\": \"x1\", \"xanchor\": \"left\", \"yref\": \"y1\", \"text\": \"60\", \"align\": \"left\", \"y\": 5, \"x\": -0.45, \"font\": {\"color\": \"#000000\"}, \"showarrow\": false}, {\"xref\": \"x1\", \"xanchor\": \"left\", \"yref\": \"y1\", \"text\": \"loan\", \"align\": \"left\", \"y\": 5, \"x\": 0.55, \"font\": {\"color\": \"#000000\"}, \"showarrow\": false}], \"xaxis\": {\"showticklabels\": false, \"tick0\": -0.5, \"ticks\": \"\", \"gridwidth\": 2, \"dtick\": 1, \"zeroline\": false}, \"height\": 230}, {\"linkText\": \"Export to plot.ly\", \"showLink\": true}).then(function() {\n",
      "    $(\".4c4087f1-af9e-4b0f-a6e1-7f6996f5c24d.loading\").remove();\n",
      "})\n",
      "                 </script>\n",
      "                 \n"
     ]
    }
   ],
   "source": [
    "print txt"
   ]
  },
  {
   "cell_type": "code",
   "execution_count": null,
   "metadata": {
    "collapsed": true
   },
   "outputs": [],
   "source": []
  }
 ],
 "metadata": {
  "kernelspec": {
   "display_name": "Python 2",
   "language": "python",
   "name": "python2"
  },
  "language_info": {
   "codemirror_mode": {
    "name": "ipython",
    "version": 2
   },
   "file_extension": ".py",
   "mimetype": "text/x-python",
   "name": "python",
   "nbconvert_exporter": "python",
   "pygments_lexer": "ipython2",
   "version": "2.7.11"
  }
 },
 "nbformat": 4,
 "nbformat_minor": 0
}
